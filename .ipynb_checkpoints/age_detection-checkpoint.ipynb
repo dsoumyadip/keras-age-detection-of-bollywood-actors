{
 "cells": [
  {
   "cell_type": "code",
   "execution_count": 2,
   "metadata": {
    "collapsed": false,
    "deletable": true,
    "editable": true,
    "scrolled": true
   },
   "outputs": [
    {
     "name": "stdout",
     "output_type": "stream",
     "text": [
      "Populating the interactive namespace from numpy and matplotlib\n"
     ]
    },
    {
     "name": "stderr",
     "output_type": "stream",
     "text": [
      "C:\\Users\\Soumyadip\\AppData\\Local\\Enthought\\Canopy\\edm\\envs\\User\\lib\\site-packages\\IPython\\core\\magics\\pylab.py:161: UserWarning: pylab import has clobbered these variables: ['imread', 'random']\n",
      "`%matplotlib` prevents importing * from pylab and numpy\n",
      "  \"\\n`%matplotlib` prevents importing * from pylab and numpy\"\n"
     ]
    },
    {
     "ename": "ImportError",
     "evalue": "No module named 'keras'",
     "output_type": "error",
     "traceback": [
      "\u001b[1;31m---------------------------------------------------------------------------\u001b[0m",
      "\u001b[1;31mImportError\u001b[0m                               Traceback (most recent call last)",
      "\u001b[1;32m<ipython-input-2-32d1c06f77df>\u001b[0m in \u001b[0;36m<module>\u001b[1;34m()\u001b[0m\n\u001b[0;32m      7\u001b[0m \u001b[1;32mimport\u001b[0m \u001b[0mtensorflow\u001b[0m \u001b[1;32mas\u001b[0m \u001b[0mtf\u001b[0m\u001b[1;33m\u001b[0m\u001b[0m\n\u001b[0;32m      8\u001b[0m \u001b[1;32mfrom\u001b[0m \u001b[0msklearn\u001b[0m\u001b[1;33m.\u001b[0m\u001b[0mpreprocessing\u001b[0m \u001b[1;32mimport\u001b[0m \u001b[0mLabelEncoder\u001b[0m\u001b[1;33m\u001b[0m\u001b[0m\n\u001b[1;32m----> 9\u001b[1;33m \u001b[1;32mfrom\u001b[0m \u001b[0mkeras\u001b[0m\u001b[1;33m.\u001b[0m\u001b[0mmodels\u001b[0m \u001b[1;32mimport\u001b[0m \u001b[0mSequential\u001b[0m\u001b[1;33m\u001b[0m\u001b[0m\n\u001b[0m\u001b[0;32m     10\u001b[0m \u001b[1;32mfrom\u001b[0m \u001b[0mkeras\u001b[0m\u001b[1;33m.\u001b[0m\u001b[0mlayers\u001b[0m \u001b[1;32mimport\u001b[0m \u001b[0mDense\u001b[0m\u001b[1;33m,\u001b[0m \u001b[0mFlatten\u001b[0m\u001b[1;33m,\u001b[0m \u001b[0mInputLayer\u001b[0m\u001b[1;33m\u001b[0m\u001b[0m\n",
      "\u001b[1;31mImportError\u001b[0m: No module named 'keras'"
     ]
    }
   ],
   "source": [
    "% pylab inline\n",
    "import os\n",
    "import random\n",
    "import pandas as pd\n",
    "import numpy as np\n",
    "from scipy.misc import imread\n",
    "import tensorflow as tf\n",
    "from sklearn.preprocessing import LabelEncoder\n",
    "from keras.models import Sequential\n",
    "from keras.layers import Dense, Flatten, InputLayer"
   ]
  },
  {
   "cell_type": "code",
   "execution_count": 8,
   "metadata": {
    "collapsed": true,
    "deletable": true,
    "editable": true
   },
   "outputs": [],
   "source": [
    "root_dir = os.path.abspath('.')\n",
    "data_dir = 'F:/AnalyticsVidya/AgeDetection'\n",
    "train = pd.read_csv(os.path.join(data_dir, 'train.csv'))\n",
    "test = pd.read_csv(os.path.join(data_dir, 'test.csv'))"
   ]
  },
  {
   "cell_type": "code",
   "execution_count": 11,
   "metadata": {
    "collapsed": false,
    "deletable": true,
    "editable": true
   },
   "outputs": [
    {
     "name": "stdout",
     "output_type": "stream",
     "text": [
      "Age: YOUNG\n"
     ]
    }
   ],
   "source": [
    "i = random.choice(train.index)\n",
    "\n",
    "img_name = train.ID[i]\n",
    "img = imread(os.path.join(data_dir, 'Train', img_name))\n",
    "\n",
    "print(\"Age:\", train.Class[i])\n"
   ]
  },
  {
   "cell_type": "code",
   "execution_count": 18,
   "metadata": {
    "collapsed": false,
    "deletable": true,
    "editable": true
   },
   "outputs": [],
   "source": [
    "temp = []\n",
    "for img_name in train.ID:\n",
    "    image_path = os.path.join(data_dir, 'Train', img_name)\n",
    "    img = imread(image_path, flatten=True)\n",
    "    img = imresize(img, (32, 32))\n",
    "    img = img.astype('float32')\n",
    "    temp.append(img)\n",
    "train_x = np.stack(temp)\n",
    "\n",
    "temp = []\n",
    "for img_name in test.ID:\n",
    "    image_path = os.path.join(data_dir, 'Test', img_name)\n",
    "    img = imread(image_path, flatten=True)\n",
    "    img = imresize(img, (32, 32))\n",
    "    img = img.astype('float32')\n",
    "    temp.append(img)\n",
    "test_x = np.stack(temp)\n",
    "\n",
    "lb = LabelEncoder()\n",
    "train_y = lb.fit_transform(train.Class)\n",
    "train_y = keras.utils.np_utils.to_categorical(train_y)"
   ]
  },
  {
   "cell_type": "code",
   "execution_count": 19,
   "metadata": {
    "collapsed": false,
    "deletable": true,
    "editable": true
   },
   "outputs": [
    {
     "name": "stdout",
     "output_type": "stream",
     "text": [
      "0          377.jpg\n",
      "1        17814.jpg\n",
      "2        21283.jpg\n",
      "3        16496.jpg\n",
      "4         4487.jpg\n",
      "5         6283.jpg\n",
      "6        23495.jpg\n",
      "7         7100.jpg\n",
      "8         6028.jpg\n",
      "9        22617.jpg\n",
      "10       11177.jpg\n",
      "11        2462.jpg\n",
      "12       24116.jpg\n",
      "13       17689.jpg\n",
      "14         728.jpg\n",
      "15        3003.jpg\n",
      "16       14408.jpg\n",
      "17        6679.jpg\n",
      "18       15152.jpg\n",
      "19       24784.jpg\n",
      "20        9970.jpg\n",
      "21       22550.jpg\n",
      "22         150.jpg\n",
      "23        7379.jpg\n",
      "24       15387.jpg\n",
      "25        2336.jpg\n",
      "26        9603.jpg\n",
      "27        4025.jpg\n",
      "28       17696.jpg\n",
      "29       17552.jpg\n",
      "           ...    \n",
      "19876    11988.jpg\n",
      "19877     9407.jpg\n",
      "19878    25426.jpg\n",
      "19879    16609.jpg\n",
      "19880    18746.jpg\n",
      "19881    25714.jpg\n",
      "19882    14939.jpg\n",
      "19883    10025.jpg\n",
      "19884     6149.jpg\n",
      "19885     9733.jpg\n",
      "19886    22630.jpg\n",
      "19887    11803.jpg\n",
      "19888    10812.jpg\n",
      "19889     7038.jpg\n",
      "19890     3021.jpg\n",
      "19891     4727.jpg\n",
      "19892     7979.jpg\n",
      "19893    26159.jpg\n",
      "19894     2040.jpg\n",
      "19895    25347.jpg\n",
      "19896    15100.jpg\n",
      "19897    26182.jpg\n",
      "19898      742.jpg\n",
      "19899     5318.jpg\n",
      "19900    25514.jpg\n",
      "19901     2482.jpg\n",
      "19902    20085.jpg\n",
      "19903    19663.jpg\n",
      "19904    10132.jpg\n",
      "19905     9896.jpg\n",
      "Name: ID, dtype: object\n"
     ]
    }
   ],
   "source": [
    "input_num_units = (32, 32, 3)\n",
    "hidden_num_units = 500\n",
    "output_num_units = 3\n",
    "\n",
    "epochs = 5\n",
    "batch_size = 128"
   ]
  },
  {
   "cell_type": "code",
   "execution_count": null,
   "metadata": {
    "collapsed": true,
    "deletable": true,
    "editable": true
   },
   "outputs": [],
   "source": []
  },
  {
   "cell_type": "code",
   "execution_count": null,
   "metadata": {
    "collapsed": true,
    "deletable": true,
    "editable": true
   },
   "outputs": [],
   "source": []
  }
 ],
 "metadata": {
  "kernelspec": {
   "display_name": "Python 3",
   "language": "python",
   "name": "python3"
  },
  "language_info": {
   "codemirror_mode": {
    "name": "ipython",
    "version": 3
   },
   "file_extension": ".py",
   "mimetype": "text/x-python",
   "name": "python",
   "nbconvert_exporter": "python",
   "pygments_lexer": "ipython3",
   "version": "3.5.2"
  }
 },
 "nbformat": 4,
 "nbformat_minor": 2
}
